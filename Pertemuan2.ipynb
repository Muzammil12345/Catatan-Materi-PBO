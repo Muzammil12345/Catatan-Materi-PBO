{
 "cells": [
  {
   "cell_type": "markdown",
   "metadata": {},
   "source": [
    "# PERTEMUAN 1\n",
    "\n",
    "## Pengenalan class dan objek\n",
    "- class adalah suatu wadah / tempat / template / sketsa yang dimana tempat tersebut merupakan gambaran bentuk dari suatu object.<br>\n",
    "> Contoh : class Mahasiswa():\n",
    "\n"
   ]
  },
  {
   "cell_type": "markdown",
   "metadata": {},
   "source": [
    "- object adalah instance dari class, object merupakan bentuk real dari gambaran class. jadi object itu suatu bentuk gambaran yang nyata sedangkan class, dia hanya menunjukkan betuk sketsa (tidak nyata).<br>\n",
    "> Contoh : mhs = Mahasiswa()"
   ]
  },
  {
   "cell_type": "markdown",
   "metadata": {},
   "source": [
    "- atrubut / properti adalah suatu ciri yang di miliki oleh suatu object tersebut.<br>\n",
    "> Contoh : def __init__(self):"
   ]
  },
  {
   "cell_type": "markdown",
   "metadata": {},
   "source": [
    "- method adalah aktifitas atau kegiatan yang bisa dilakukan oleh suatu objek dengan memanfaatkan atribut yang dimiliki oleh objek<br>\n",
    ">     def method(self):\n",
    "obj.method()"
   ]
  },
  {
   "cell_type": "markdown",
   "metadata": {},
   "source": [
    "### Contoh Program dan penjelasan\n",
    "##### 1. kelas kubus"
   ]
  },
  {
   "cell_type": "code",
   "execution_count": 4,
   "metadata": {},
   "outputs": [],
   "source": [
    "class kubus:\n",
    "    def __init__(self,s):\n",
    "        self.sisi = s\n",
    "        \n",
    "    def tampilkan(self):\n",
    "        print(self.sisi)\n",
    "        \n",
    "    def luas(self):\n",
    "        print(\"Luas :\",self.sisi**2)"
   ]
  },
  {
   "cell_type": "code",
   "execution_count": 5,
   "metadata": {},
   "outputs": [
    {
     "name": "stdout",
     "output_type": "stream",
     "text": [
      "5\n",
      "Luas : 25\n"
     ]
    }
   ],
   "source": [
    "kubus1 = kubus(5)\n",
    "kubus1.tampilkan()\n",
    "kubus1.luas()"
   ]
  },
  {
   "cell_type": "markdown",
   "metadata": {},
   "source": [
    "###### Pemanggilan atribut di luar kelas"
   ]
  },
  {
   "cell_type": "code",
   "execution_count": 6,
   "metadata": {},
   "outputs": [
    {
     "data": {
      "text/plain": [
       "5"
      ]
     },
     "execution_count": 6,
     "metadata": {},
     "output_type": "execute_result"
    }
   ],
   "source": [
    "kubus2 = kubus(5)\n",
    "kubus2.sisi"
   ]
  },
  {
   "cell_type": "markdown",
   "metadata": {},
   "source": [
    "\n",
    "### Analisa program\n",
    "program di atas adalah membuat oject kubus dengan nama classya kubus. mempunyai aribut sisi serta ada beberapa method yaitu menampilkan sisi dan menghitung luas dari kubus.<br>\n",
    "di main program dia meng creat object dengan nama kubus1<br><br>\n",
    "##### 2. kelas Pegawai"
   ]
  },
  {
   "cell_type": "code",
   "execution_count": 4,
   "metadata": {},
   "outputs": [],
   "source": [
    "class pegawai:\n",
    "    def __init__(self,n,j,g):\n",
    "        self.nama = n\n",
    "        self.jabatan = j\n",
    "        self.gaji = g\n",
    "        \n",
    "    def tampilkan(self):\n",
    "        print(self.nama,\",\",self.jabatan,\"dan\",self.gaji*30)"
   ]
  },
  {
   "cell_type": "code",
   "execution_count": 5,
   "metadata": {},
   "outputs": [
    {
     "name": "stdout",
     "output_type": "stream",
     "text": [
      "adi , admin dan 150000\n"
     ]
    }
   ],
   "source": [
    "p1 = pegawai(\"adi\",\"admin\",5000)\n",
    "p1.tampilkan()"
   ]
  },
  {
   "cell_type": "markdown",
   "metadata": {},
   "source": [
    "### Kesimpulan\n",
    "dalam suatu oject terdapat beberapa hal yang harus di persiapkan untuk dapat dikatakan suatu object yaitu class,properti,method. dengan ketiga bahan di atas maka sudah dapat dikatakan suatu object"
   ]
  },
  {
   "cell_type": "code",
   "execution_count": null,
   "metadata": {},
   "outputs": [],
   "source": []
  }
 ],
 "metadata": {
  "kernelspec": {
   "display_name": "Python 3",
   "language": "python",
   "name": "python3"
  },
  "language_info": {
   "codemirror_mode": {
    "name": "ipython",
    "version": 3
   },
   "file_extension": ".py",
   "mimetype": "text/x-python",
   "name": "python",
   "nbconvert_exporter": "python",
   "pygments_lexer": "ipython3",
   "version": "3.7.0"
  }
 },
 "nbformat": 4,
 "nbformat_minor": 2
}
