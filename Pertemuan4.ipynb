{
 "cells": [
  {
   "cell_type": "markdown",
   "metadata": {},
   "source": [
    "# PERTEMUAN 4\n",
    "### Macam macam inheritance\n",
    "##### 1. Default Property\n",
    "default property adalah metode pewrarisan dengan mengambil semua yang dimiliki oleh induk kelas(atribut maupun method), maka dari itu subclass mengcopy semua isi dari induk kelassnya.<br>\n",
    "##### Contoh program dari Deault Property"
   ]
  },
  {
   "cell_type": "code",
   "execution_count": 1,
   "metadata": {},
   "outputs": [],
   "source": [
    "class Fish:\n",
    "    def __init__(self,firs_name,last_name=\"Fish\",skelaton=\"bone\",eyelids=\"False\"):\n",
    "        self.first_name = first_name\n",
    "        self.last_name = last_name\n",
    "        self.skelaton = skelaton\n",
    "        self.eyelids = eyelids\n",
    "        \n",
    "    def swim(self):\n",
    "        print(\"The fish is swimming.\")\n",
    "    \n",
    "    def swim_backwards(self):\n",
    "        print(\"The fish can swim backwards.\")\n",
    "        \n",
    "        \n",
    "class Trout(Fish):\n",
    "    pass"
   ]
  },
  {
   "cell_type": "markdown",
   "metadata": {},
   "source": [
    "program diatas adalah contoh dari default property yang terdiri dari class Fish(induk kelas) dan class Trout(subclass). cara kerja dari program diatas adalah induk class mempunyai beberapa atribut dan method sedangkan subclassnya dia hanya mengambil semua ativitas yang dimiliki oleh kelas induk."
   ]
  },
  {
   "cell_type": "markdown",
   "metadata": {},
   "source": [
    "##### 2. Class Super\n",
    "Super Class adalah kelas yang menjadi ahli waris dari subclass yang mana jika subclass membutuhkan atribut dari superclass, maka subclass bisa mengambil warisan(atribut maupun method) dari superclass sesuai kebutuhan dari subclassnya tersebut."
   ]
  },
  {
   "cell_type": "code",
   "execution_count": 3,
   "metadata": {},
   "outputs": [
    {
     "name": "stdout",
     "output_type": "stream",
     "text": [
      "shark\n"
     ]
    }
   ],
   "source": [
    "class Fish:\n",
    "    def __init__(self,first_name,last_name=\"Fish\",skelaton=\"bone\",eyelids=\"False\"):\n",
    "        self.first_name = first_name\n",
    "        self.last_name = last_name\n",
    "        self.skelaton = skelaton\n",
    "        self.eyelids = eyelids\n",
    "        \n",
    "class Trout(Fish):\n",
    "    def __init__(self,water,first_name, last_name,skeleton,eyelids):\n",
    "        self.water = water\n",
    "        Fish.__init__(self,first_name, last_name,skeleton, eyelids)\n",
    "        super().__init__(first_name, last_name,skeleton, eyelids)\n",
    "\n",
    "terry = Trout(\"freshwater\",\"shark\",\"fish\",\"no bone\",\"true\")\n",
    "print(terry.first_name)\n"
   ]
  },
  {
   "cell_type": "markdown",
   "metadata": {},
   "source": [
    "progra diatas adalah terdapat kelas Fish(induk class) dan kelas Trout(subclass). kelas Fish menjadi super kelas dari kelas Trout dimana subclassnya sudah bisa meangakses atribut dan method secara penuh terhadap super kelas"
   ]
  },
  {
   "cell_type": "markdown",
   "metadata": {},
   "source": [
    "##### 3. Overriding\n",
    "overriding adalah  metode pewarisan dengan memodifikasi atrubut/method dari induk kelas di dalam subclass, jadi subclasss bisa menmbahkan / memodifikasi atribut dan method dengan syarat memilki kesamaan yang akan di overrid.<br>\n",
    "##### contoh program dari Overriding"
   ]
  },
  {
   "cell_type": "code",
   "execution_count": 4,
   "metadata": {},
   "outputs": [
    {
     "name": "stdout",
     "output_type": "stream",
     "text": [
      "The shark cannot swim backwards, but can sink backwards.\n"
     ]
    }
   ],
   "source": [
    "class Fish:\n",
    "    def __init__(self,first_name,last_name=\"Fish\",skelaton=\"bone\",eyelids=\"False\"):\n",
    "        self.first_name = first_name\n",
    "        self.last_name = last_name\n",
    "        self.skelaton = skelaton\n",
    "        self.eyelids = eyelids\n",
    "        \n",
    "    def swim(self):\n",
    "        print(\"The fish is swimming.\")\n",
    "    \n",
    "    def swim_backwards(self):\n",
    "        print(\"The fish can swim backwards.\")\n",
    "        \n",
    "class Shark(Fish): \n",
    "    def __init__(self, first_name, last_name=\"Shark\", skeleton=\"cartilage\", eyelids=True): \n",
    "        self.first_name = first_name \n",
    "        self.last_name = last_name \n",
    "        self.skeleton = skeleton \n",
    "        self.eyelids = eyelids \n",
    "    def swim_backwards(self): \n",
    "        print(\"The shark cannot swim backwards, but can sink backwards.\") \n",
    "        \n",
    "obj = Shark(\"Muzammil\")\n",
    "obj.swim_backwards()"
   ]
  },
  {
   "cell_type": "markdown",
   "metadata": {},
   "source": [
    "program diatas merupakan contoh dari overriding. terdapat kelas Fish(induk kelas) dan kelas Shark(subclass), di dalam main program dia meng creat objek dari class Shark dan memanggil method yang sama persis dengan method Fish dan menghasilkan method dari kelas Shark.<br>"
   ]
  },
  {
   "cell_type": "markdown",
   "metadata": {},
   "source": [
    "##### 4. Multiple inheritance\n",
    "multiplle inheritance adalah metode pewarisan yang mana subclass bisa mewariskan lebih dari satu induk kelas, jika terdapat kekurangan atribut dan method pada subclass maka subclass bisa mengambil hak waris atribut dan metod pada induk kelas.<br>\n",
    "##### Contoh program Multiple inheritance"
   ]
  },
  {
   "cell_type": "code",
   "execution_count": 2,
   "metadata": {},
   "outputs": [
    {
     "name": "stdout",
     "output_type": "stream",
     "text": [
      "Coral lives in a comunity.\n",
      "The anemone is protecting the clownfish.\n"
     ]
    }
   ],
   "source": [
    "class Coral:\n",
    "    def community(self):\n",
    "        print(\"Coral lives in a comunity.\")\n",
    "        \n",
    "class Anemone:\n",
    "    def protect_clownfish(self):\n",
    "        print(\"The anemone is protecting the clownfish.\")\n",
    "        \n",
    "class CoralReef(Coral,Anemone): \n",
    "    pass \n",
    "\n",
    "great_barrier = CoralReef() \n",
    "great_barrier.community() \n",
    "great_barrier.protect_clownfish()"
   ]
  },
  {
   "cell_type": "code",
   "execution_count": null,
   "metadata": {},
   "outputs": [],
   "source": [
    "class Murid:\n",
    "    \n",
    "    def __init__(self):\n",
    "        self.nama = input(\"Nama: \")\n",
    "        \n",
    "    def display(self):\n",
    "        print(\"Nama: \",self.nama)\n",
    "        \n",
    "        \n",
    "class NilaiPelajaran:\n",
    "    def __init__(self):\n",
    "        print(\"Nilai Pelajaran\")\n",
    "        self.math = int(input(\"Math :\"))\n",
    "        self.biology = int(input(\"Biology\"))\n",
    "        \n",
    "    def display(self):\n",
    "        print(\"Rata2 Nilai :\",(self.math+self.biology)/2)\n",
    "        \n",
    "class student(Murid,NilaiPelajaran):\n",
    "    def __init__(self):\n",
    "        Murid.__init__(self)\n",
    "        NilaiPelajaran.__init__(self)\n",
    "        \n",
    "    def result(self):\n",
    "        Murid.display(self)\n",
    "        NilaiPelajaran.display()\n",
    "\n",
    "stu1 = student()\n",
    "stu2 = student()\n",
    "\n",
    "stu1.result()\n",
    "stu2.result()\n"
   ]
  },
  {
   "cell_type": "markdown",
   "metadata": {},
   "source": [
    "### Analisa Program\n",
    "pada pogram di atas  yang berperan sebagai induk kelas adalah Murid dan NilaiPelajaran, sedangkan subclassnya adalah student.<br>\n",
    "subclass hanya memiiki method result yang mana isinya tentang menampilkan nilai rata2 yang berada pada kelas NilaiPelajaran dan menapilkan nama yang berada pada kelas Murid, maka dari itu kelas student mengambil hak waris dari kelas NilaiPelajaran dan kelas Murid"
   ]
  },
  {
   "cell_type": "code",
   "execution_count": null,
   "metadata": {},
   "outputs": [],
   "source": []
  }
 ],
 "metadata": {
  "kernelspec": {
   "display_name": "Python 3",
   "language": "python",
   "name": "python3"
  },
  "language_info": {
   "codemirror_mode": {
    "name": "ipython",
    "version": 3
   },
   "file_extension": ".py",
   "mimetype": "text/x-python",
   "name": "python",
   "nbconvert_exporter": "python",
   "pygments_lexer": "ipython3",
   "version": "3.7.0"
  }
 },
 "nbformat": 4,
 "nbformat_minor": 2
}
