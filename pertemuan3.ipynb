{
 "cells": [
  {
   "cell_type": "markdown",
   "metadata": {},
   "source": [
    "# PERTEMUAN 3\n",
    "### Inheritance\n",
    "\n",
    "inheritance adalah konsep pemrograman dimana class induk dapat menurunkan / mewariskan atribut dan method sepenuhnya kepada subclass (kelas anak)<br><br>\n",
    "fungsi dari konsep inheritance adalah mencegah duplikasi(penggandaan) program agar penulisan program tidak diulang.<br>\n",
    "##### Contoh peulisan inheriance\n",
    "> class mahasiswa(Dosen):\n",
    "<br>contoh di atas menunjukkan bahwa kelas mahasiswa merupakan anak dari kelas Dosen"
   ]
  },
  {
   "cell_type": "markdown",
   "metadata": {},
   "source": [
    "##### Pendeklarasian kelas induk"
   ]
  },
  {
   "cell_type": "code",
   "execution_count": 1,
   "metadata": {},
   "outputs": [],
   "source": [
    "class user:\n",
    "    def __init__(self,name):\n",
    "        self.name = name\n",
    "        \n",
    "    def print_name(self):\n",
    "        print(\"Name :\",self.name)"
   ]
  },
  {
   "cell_type": "markdown",
   "metadata": {},
   "source": [
    "##### Contoh pendeklarasian kelas anak (subclass)"
   ]
  },
  {
   "cell_type": "code",
   "execution_count": 2,
   "metadata": {},
   "outputs": [],
   "source": [
    "class programmer(user):\n",
    "    def __init__(self,name):\n",
    "        self.name = name\n",
    "        \n",
    "    def doPython(self):\n",
    "        print(\"Programmin Python\")"
   ]
  },
  {
   "cell_type": "markdown",
   "metadata": {},
   "source": [
    "##### Contoh program dari inheritance"
   ]
  },
  {
   "cell_type": "code",
   "execution_count": 3,
   "metadata": {},
   "outputs": [
    {
     "name": "stdout",
     "output_type": "stream",
     "text": [
      "Name : brian\n",
      "\n",
      "Name : diana\n",
      "Programmin Python\n"
     ]
    }
   ],
   "source": [
    "class user:\n",
    "    def __init__(self,name):\n",
    "        self.name = name\n",
    "        \n",
    "    def print_name(self):\n",
    "        print(\"Name :\",self.name)\n",
    "\n",
    "class programmer(user):\n",
    "    def __init__(self,name):\n",
    "        self.name = name\n",
    "        \n",
    "    def doPython(self):\n",
    "        print(\"Programmin Python\")\n",
    "        \n",
    "brian1 = user(\"brian\")\n",
    "brian1.print_name()\n",
    "print()\n",
    "diana = programmer(\"diana\")\n",
    "diana.print_name()\n",
    "diana.doPython()"
   ]
  },
  {
   "cell_type": "markdown",
   "metadata": {},
   "source": [
    "contoh dari program di atas adalah kelas user mewariskan kepada kelas programmer, tetapi subclass programmer tidak bisa mengakses/mengambil atribut dari kelas user yang di sebabkan karena subclass programmer tidak mendeklarasikan atribut dari induk kelasnya<br><br>"
   ]
  },
  {
   "cell_type": "code",
   "execution_count": 6,
   "metadata": {},
   "outputs": [
    {
     "name": "stdout",
     "output_type": "stream",
     "text": [
      "TerryFish\n",
      "bone\n",
      "False\n",
      "The fish is swimming\n",
      "The fish can swim backwards\n"
     ]
    }
   ],
   "source": [
    "class Fish:\n",
    "    def __init__(self,first_name,last_name=\"Fish\",skelaton=\"bone\",eyelids=False):\n",
    "        self.first_name = first_name\n",
    "        self.last_name = last_name\n",
    "        self.skelaton = skelaton\n",
    "        self.eyelids = eyelids\n",
    "        \n",
    "    def swim(self):\n",
    "        print(\"The fish is swimming\")\n",
    "        \n",
    "    def swim_backwards(self):\n",
    "        print(\"The fish can swim backwards\")\n",
    "        \n",
    "class Trout(Fish):\n",
    "    pass\n",
    "\n",
    "terry = Trout(\"Terry\")\n",
    "print(terry.first_name+\"\"+terry.last_name)\n",
    "print(terry.skelaton)\n",
    "print(terry.eyelids)\n",
    "terry.swim()\n",
    "terry.swim_backwards()"
   ]
  },
  {
   "cell_type": "markdown",
   "metadata": {},
   "source": [
    "Program diatas adalah kelas Trout meng copy / mewarisi keseluruhan aktifitas dari kelas Fish, namun kelas Fish tidak bisa mengakses atribut dan method dari kelas Trout dikarenakan dia merupakan induk kelasnya.<br><br>"
   ]
  },
  {
   "cell_type": "code",
   "execution_count": 9,
   "metadata": {},
   "outputs": [
    {
     "name": "stdout",
     "output_type": "stream",
     "text": [
      "CaseyFish\n",
      "The fish is swimming\n",
      "The clownfish is coexiting with sea anemone.\n"
     ]
    }
   ],
   "source": [
    "class Fish:\n",
    "    def __init__(self,first_name,last_name=\"Fish\",skelaton=\"bone\",eyelids=False):\n",
    "        self.first_name = first_name\n",
    "        self.last_name = last_name\n",
    "        self.skelaton = skelaton\n",
    "        self.eyelids = eyelids\n",
    "        \n",
    "    def swim(self):\n",
    "        print(\"The fish is swimming\")\n",
    "        \n",
    "    def swim_backwards(self):\n",
    "        print(\"The fish can swim backwards\")\n",
    "        \n",
    "class Clownfish(Fish):\n",
    "    def live_with_anemone(self):\n",
    "        print(\"The clownfish is coexiting with sea anemone.\")\n",
    "        \n",
    "casey = Clownfish(\"Casey\")\n",
    "print(casey.first_name+\"\"+casey.last_name)\n",
    "casey.swim()\n",
    "casey.live_with_anemone()"
   ]
  },
  {
   "cell_type": "markdown",
   "metadata": {},
   "source": [
    "program diatas adalah terdapat kelas Fish(induk class) dan kelas Clownfish(subclass), namun class Clownfish bisa mengakses atribut dari class Fish dikarenakan induk class Fish mempunyai atribut yang sudah diisi nilainya dan subclass Clownfish tidak mempunyai atribut sama sekali. maka subclass Clownfish bisa mengakses atribut dari class induk akan tetapi tidak termasuk dalam atribut warisan. "
   ]
  },
  {
   "cell_type": "markdown",
   "metadata": {},
   "source": [
    "# Tugas\n",
    "1. Modifikasi skrip program dari Example 1 agar memenuhi kriteria berikut:\n",
    "> - Gunakan teori inheritance tentang Super kelas User, properti : first name dan method printName<br><br>\n",
    "> - kelas programmer (anak kelas dari kelas user), properti last name dan method printName<br><br>\n",
    "> - Buat object dari user dan kelas programmer yang bisa menampilkan first name dan last name<br><br>\n",
    "2. Buat program untuk kriteria berikut ini:\n",
    "> - kelas orang -> property : nama<br>\n",
    "> - Sub kelas orang(mahasiswa dan pegawai) -> property dari mahasiswa : nim, dan property dari pegawai : nip<br><br>\n",
    "> - Sub kelas pegawai (dosen dan karyawan) -> properti dari dari dosen : nidn<br><br>\n",
    "- Tampilkan nama dosen dari kelas dosen dengan atribut nama,nip,nidn<br>\n",
    "- Tampilkan nama karyawan dari kelas karyawan dengan atribut nama dan nip\n"
   ]
  },
  {
   "cell_type": "code",
   "execution_count": null,
   "metadata": {},
   "outputs": [],
   "source": []
  }
 ],
 "metadata": {
  "kernelspec": {
   "display_name": "Python 3",
   "language": "python",
   "name": "python3"
  },
  "language_info": {
   "codemirror_mode": {
    "name": "ipython",
    "version": 3
   },
   "file_extension": ".py",
   "mimetype": "text/x-python",
   "name": "python",
   "nbconvert_exporter": "python",
   "pygments_lexer": "ipython3",
   "version": "3.7.0"
  }
 },
 "nbformat": 4,
 "nbformat_minor": 2
}
