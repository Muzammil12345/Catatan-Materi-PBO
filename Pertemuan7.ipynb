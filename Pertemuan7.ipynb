{
 "cells": [
  {
   "cell_type": "markdown",
   "metadata": {},
   "source": [
    "##### Privat Atribut\n",
    "merupakan sebuah atribut class yang tidak bisa diakses dari luar class.<br>\n",
    "ciri ciri dari privat adalah:<br>\n",
    "> 1. diapit oleh underscore 1, tetapi masih sering bisa diakses.<br>\n",
    "> 2. diapit oleh underscore 2"
   ]
  },
  {
   "cell_type": "code",
   "execution_count": 1,
   "metadata": {},
   "outputs": [
    {
     "name": "stdout",
     "output_type": "stream",
     "text": [
      "123\n",
      "123\n"
     ]
    },
    {
     "ename": "AttributeError",
     "evalue": "'Robot' object has no attribute '__c'",
     "output_type": "error",
     "traceback": [
      "\u001b[1;31m---------------------------------------------------------------------------\u001b[0m",
      "\u001b[1;31mAttributeError\u001b[0m                            Traceback (most recent call last)",
      "\u001b[1;32m<ipython-input-1-606c97fd13a7>\u001b[0m in \u001b[0;36m<module>\u001b[1;34m()\u001b[0m\n\u001b[0;32m      8\u001b[0m \u001b[0mprint\u001b[0m\u001b[1;33m(\u001b[0m\u001b[0mobj\u001b[0m\u001b[1;33m.\u001b[0m\u001b[0ma\u001b[0m\u001b[1;33m)\u001b[0m\u001b[1;33m\u001b[0m\u001b[0m\n\u001b[0;32m      9\u001b[0m \u001b[0mprint\u001b[0m\u001b[1;33m(\u001b[0m\u001b[0mobj\u001b[0m\u001b[1;33m.\u001b[0m\u001b[0m_b\u001b[0m\u001b[1;33m)\u001b[0m\u001b[1;33m\u001b[0m\u001b[0m\n\u001b[1;32m---> 10\u001b[1;33m \u001b[0mprint\u001b[0m\u001b[1;33m(\u001b[0m\u001b[0mobj\u001b[0m\u001b[1;33m.\u001b[0m\u001b[0m__c\u001b[0m\u001b[1;33m)\u001b[0m\u001b[1;33m\u001b[0m\u001b[0m\n\u001b[0m",
      "\u001b[1;31mAttributeError\u001b[0m: 'Robot' object has no attribute '__c'"
     ]
    }
   ],
   "source": [
    "class Robot(object):\n",
    "    def __init__(self):\n",
    "        self.a = 123\n",
    "        self._b = 123\n",
    "        self.__c = 123\n",
    "\n",
    "obj = Robot()\n",
    "print(obj.a)\n",
    "print(obj._b)\n",
    "print(obj.__c)"
   ]
  },
  {
   "cell_type": "markdown",
   "metadata": {},
   "source": [
    "jika program diatas dijalakan maka akan error karena atribut c sudah menjadi atribut privat yang artinya tidak bisa diakses dari luar"
   ]
  },
  {
   "cell_type": "markdown",
   "metadata": {},
   "source": [
    "##### Mengakses atribut privat dari luar class part1\n",
    "yaitu dengan cara memanggil atribut privat dan di tampung dalam method public baru lalu memanggil methodnya."
   ]
  },
  {
   "cell_type": "code",
   "execution_count": 13,
   "metadata": {},
   "outputs": [
    {
     "name": "stdout",
     "output_type": "stream",
     "text": [
      "22\n",
      "23\n"
     ]
    }
   ],
   "source": [
    "class Robot(object):\n",
    "    def __init__(self):\n",
    "        self.__version = 22\n",
    "\n",
    "    def getVersion(self):\n",
    "        print(self.__version)\n",
    "\n",
    "    def setVersion(self, version):\n",
    "        self.__version = version\n",
    "\n",
    "obj = Robot()\n",
    "obj.getVersion()\n",
    "obj.setVersion(23)\n",
    "obj.getVersion()"
   ]
  },
  {
   "cell_type": "markdown",
   "metadata": {},
   "source": [
    "##### Mengakses atribut privat dari luar class part2\n",
    "yaitu dengan cara memanggil objenknya dan nama class lalu nama atributnya."
   ]
  },
  {
   "cell_type": "code",
   "execution_count": 1,
   "metadata": {},
   "outputs": [
    {
     "name": "stdout",
     "output_type": "stream",
     "text": [
      "22\n"
     ]
    }
   ],
   "source": [
    "class Robot(object):\n",
    "    def __init__(self):\n",
    "        self.__version = 22\n",
    "\n",
    "    def getVersion(self):\n",
    "        print(self.__version)\n",
    "\n",
    "    def setVersion(self, version):\n",
    "        self.__version = version\n",
    "\n",
    "obj = Robot()\n",
    "print(obj._Robot__version)\n",
    "#print(obj._Robot__version)"
   ]
  },
  {
   "cell_type": "markdown",
   "metadata": {},
   "source": [
    "##### Privat Methods\n",
    "merupakan methods yang sudah tidak bisa lagi diakses dari luar class.<br>\n",
    "##### Contoh program privat methods"
   ]
  },
  {
   "cell_type": "code",
   "execution_count": 1,
   "metadata": {},
   "outputs": [
    {
     "name": "stdout",
     "output_type": "stream",
     "text": [
      "This is a public method\n",
      "This is a private method\n",
      "This is another private Method\n"
     ]
    }
   ],
   "source": [
    "class A(object):\n",
    "    # public method\n",
    "    def myPublicMethod(self):\n",
    "        return \"This is a public method\"\n",
    "\n",
    "    # private method with single _underscore\n",
    "    def _myPrivateMethod(self):\n",
    "        return \"This is a private method\"\n",
    "\n",
    "    # private metod with double __undersore\n",
    "    def __myAnotherPrivateMethod(self):\n",
    "        return \"This is another private Method\"\n",
    "\n",
    "\n",
    "obj = A()\n",
    "# We can access the public method which is cool !!!\n",
    "print(obj.myPublicMethod())   #Output : This is a public method\n",
    "\n",
    "# Note that we can also access the private method from outside\n",
    "print(obj._myPrivateMethod()) #Output : This is a private method\n",
    "\n",
    "# However, You can still call the double underscore method\n",
    "# by appending the _class name before method name\n",
    "print(obj._A__myAnotherPrivateMethod()) #Output:This is another private Method\n"
   ]
  },
  {
   "cell_type": "markdown",
   "metadata": {},
   "source": [
    "##### Mengakses methods dari luar class"
   ]
  },
  {
   "cell_type": "code",
   "execution_count": 4,
   "metadata": {},
   "outputs": [
    {
     "name": "stdout",
     "output_type": "stream",
     "text": [
      "updating software\n",
      "driving\n",
      "updating software\n"
     ]
    }
   ],
   "source": [
    "class Car:\n",
    "\n",
    "    def __init__(self):\n",
    "        self.__updateSoftware()\n",
    "\n",
    "    def drive(self):\n",
    "        print('driving')\n",
    "\n",
    "    def __updateSoftware(self):\n",
    "        print('updating software')\n",
    "\n",
    "redcar = Car()\n",
    "redcar.drive()\n",
    "#redcar.__updateSoftware()  not accesible from object.\n",
    "redcar._Car__updateSoftware()\n"
   ]
  },
  {
   "cell_type": "markdown",
   "metadata": {},
   "source": [
    "##### Privat Variables\n",
    "adalah variable yang ada di dalam class di setting menjadi variable privat, artinya tidak bisa diakses di luar class.<br>\n",
    "##### Contoh program privat variables"
   ]
  },
  {
   "cell_type": "code",
   "execution_count": 9,
   "metadata": {},
   "outputs": [
    {
     "name": "stdout",
     "output_type": "stream",
     "text": [
      "driving. maxspeed 200\n",
      "driving. maxspeed 200\n"
     ]
    },
    {
     "ename": "AttributeError",
     "evalue": "'Car' object has no attribute '__maxspeed'",
     "output_type": "error",
     "traceback": [
      "\u001b[1;31m---------------------------------------------------------------------------\u001b[0m",
      "\u001b[1;31mAttributeError\u001b[0m                            Traceback (most recent call last)",
      "\u001b[1;32m<ipython-input-9-5085666fdf80>\u001b[0m in \u001b[0;36m<module>\u001b[1;34m()\u001b[0m\n\u001b[0;32m     15\u001b[0m \u001b[1;31m#redcar.__maxspeed = 10  # will not change variable because its private\u001b[0m\u001b[1;33m\u001b[0m\u001b[1;33m\u001b[0m\u001b[0m\n\u001b[0;32m     16\u001b[0m \u001b[0mredcar\u001b[0m\u001b[1;33m.\u001b[0m\u001b[0mdrive\u001b[0m\u001b[1;33m(\u001b[0m\u001b[1;33m)\u001b[0m\u001b[1;33m\u001b[0m\u001b[0m\n\u001b[1;32m---> 17\u001b[1;33m \u001b[0mredcar\u001b[0m\u001b[1;33m.\u001b[0m\u001b[0m__maxspeed\u001b[0m\u001b[1;33m\u001b[0m\u001b[0m\n\u001b[0m",
      "\u001b[1;31mAttributeError\u001b[0m: 'Car' object has no attribute '__maxspeed'"
     ]
    }
   ],
   "source": [
    "class Car:\n",
    "\n",
    "    __maxspeed = 0\n",
    "    __name = \"\"\n",
    "\n",
    "    def __init__(self):\n",
    "        self.__maxspeed = 200\n",
    "        self.__name = \"Supercar\"\n",
    "\n",
    "    def drive(self):\n",
    "        print('driving. maxspeed ' + str(self.__maxspeed))\n",
    "\n",
    "redcar = Car()\n",
    "redcar.drive()\n",
    "#redcar.__maxspeed = 10  # will not change variable because its private\n",
    "redcar.drive()\n",
    "redcar.__maxspeed"
   ]
  },
  {
   "cell_type": "markdown",
   "metadata": {},
   "source": [
    "jika program diatas dijalankan maka akan error karena variablenya sudah menjadi privat"
   ]
  }
 ],
 "metadata": {
  "kernelspec": {
   "display_name": "Python 3",
   "language": "python",
   "name": "python3"
  },
  "language_info": {
   "codemirror_mode": {
    "name": "ipython",
    "version": 3
   },
   "file_extension": ".py",
   "mimetype": "text/x-python",
   "name": "python",
   "nbconvert_exporter": "python",
   "pygments_lexer": "ipython3",
   "version": "3.7.0"
  }
 },
 "nbformat": 4,
 "nbformat_minor": 2
}
