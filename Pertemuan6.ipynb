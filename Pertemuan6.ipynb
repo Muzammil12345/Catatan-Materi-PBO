{
 "cells": [
  {
   "cell_type": "markdown",
   "metadata": {},
   "source": [
    "# Pertemuan 6\n",
    "# Operator and Method Overloading\n",
    "### Overriding\n",
    "Overriding  memiliki method yang namanya sama namun berbeda class. Method pertama adalah method yang berasal dari class induk dengan parameter yang sama dengan method pada class anak. Pada Overriding nama method dan parameternya pada kedua classnya harus sama.<br><br>\n",
    "##### Contoh program overriding"
   ]
  },
  {
   "cell_type": "code",
   "execution_count": 9,
   "metadata": {},
   "outputs": [
    {
     "name": "stdout",
     "output_type": "stream",
     "text": [
      "5\n"
     ]
    }
   ],
   "source": [
    "class Parent(object):\n",
    "    def __init__(self):\n",
    "        self.value = 5\n",
    "\n",
    "    def get_value(self):\n",
    "        return self.value\n",
    "\n",
    "class Child(Parent):\n",
    "    def get_value(self):\n",
    "        return self.value + 1\n",
    "\n",
    "a=Child()\n",
    "a.get_value()\n",
    "print(a.value)\n",
    "#b=Parent()\n",
    "#b.get_value()"
   ]
  },
  {
   "cell_type": "markdown",
   "metadata": {},
   "source": [
    "### Overloading\n",
    "\n",
    "Method yang mempunyai nama yang sama namun mempunyai parameter yang berbeda. Dalam oveloading sebuah method harus mempunyai parameter berbeda (baik tipe maupun jumlahnya). Tipe data nilai kembalian dapat berbeda atau sama.Merupakan pendukung sifat Polymorphisme. Dan semua method dapat di-overloading termasuk constructor\n",
    "\n",
    "Dalam sebuah kelas diperbolehkan ada lebih dari satu method dengan nama yang sama dengan catatan methods dapat dibedakan berdasarkan banyaknya parameter atau tipe data parameter formal.<br><br>\n",
    "##### Contoh program overloading"
   ]
  },
  {
   "cell_type": "code",
   "execution_count": 2,
   "metadata": {},
   "outputs": [
    {
     "ename": "TypeError",
     "evalue": "product() missing 1 required positional argument: 'c'",
     "output_type": "error",
     "traceback": [
      "\u001b[1;31m---------------------------------------------------------------------------\u001b[0m",
      "\u001b[1;31mTypeError\u001b[0m                                 Traceback (most recent call last)",
      "\u001b[1;32m<ipython-input-2-6f387f1bec98>\u001b[0m in \u001b[0;36m<module>\u001b[1;34m()\u001b[0m\n\u001b[0;32m      8\u001b[0m     \u001b[0mprint\u001b[0m\u001b[1;33m(\u001b[0m\u001b[0mp\u001b[0m\u001b[1;33m)\u001b[0m\u001b[1;33m\u001b[0m\u001b[0m\n\u001b[0;32m      9\u001b[0m \u001b[1;33m\u001b[0m\u001b[0m\n\u001b[1;32m---> 10\u001b[1;33m \u001b[0mproduct\u001b[0m\u001b[1;33m(\u001b[0m\u001b[1;36m4\u001b[0m\u001b[1;33m,\u001b[0m \u001b[1;36m5\u001b[0m\u001b[1;33m)\u001b[0m\u001b[1;33m\u001b[0m\u001b[0m\n\u001b[0m\u001b[0;32m     11\u001b[0m \u001b[1;33m\u001b[0m\u001b[0m\n\u001b[0;32m     12\u001b[0m \u001b[0mproduct\u001b[0m\u001b[1;33m(\u001b[0m\u001b[1;36m4\u001b[0m\u001b[1;33m,\u001b[0m \u001b[1;36m5\u001b[0m\u001b[1;33m,\u001b[0m \u001b[1;36m5\u001b[0m\u001b[1;33m)\u001b[0m\u001b[1;33m\u001b[0m\u001b[0m\n",
      "\u001b[1;31mTypeError\u001b[0m: product() missing 1 required positional argument: 'c'"
     ]
    }
   ],
   "source": [
    "def product(a, b):\n",
    "    p = a * b\n",
    "    print(p)\n",
    "\n",
    "\n",
    "def product(a, b, c):\n",
    "    p = a * b*c\n",
    "    print(p)\n",
    "\n",
    "product(4, 5)\n",
    "\n",
    "product(4, 5, 5)"
   ]
  },
  {
   "cell_type": "markdown",
   "metadata": {},
   "source": [
    "Jika program diatas dijalankan maka akan error, karena sebenarnya python tidak mensupport metode dari overloading dengan menggunakan 2 kelas, namun masih ada cara lain yaitu dengan hanya menggunakan 1 kelas saja tetapi bisa di panggil berkali kali.<br><br>\n",
    "##### Contoh program overloading support by python"
   ]
  },
  {
   "cell_type": "code",
   "execution_count": 11,
   "metadata": {},
   "outputs": [
    {
     "name": "stdout",
     "output_type": "stream",
     "text": [
      "11\n",
      "Hi Geeks\n"
     ]
    }
   ],
   "source": [
    "def add(datatype, *args):\n",
    "\n",
    "\n",
    "    if datatype =='int':\n",
    "        answer = 0\n",
    "\n",
    "\n",
    "    if datatype =='str':\n",
    "        answer =''\n",
    "\n",
    "\n",
    "    for x in args:\n",
    "\n",
    "        answer = answer + x\n",
    "\n",
    "    print(answer)\n",
    "\n",
    "# Integer\n",
    "add('int', 5, 6)\n",
    "\n",
    "# String\n",
    "add('str', 'Hi ', 'Geeks')\n"
   ]
  },
  {
   "cell_type": "markdown",
   "metadata": {},
   "source": [
    "### Operator Overloading\n",
    "operator overloading adalah operator yang di gunakan sebagai pengganti fungsi inputan, output ataupun bisa fungsi yang lainya. Misalkan untuk fungsi input di gantikan dengan operator overloading istream, begitu juga dengan operator-operator lainya.<br><br>\n",
    "operator overloading merupakan operator yang mempunyai banyak fungsi(manggabungkan dan menambahkan)"
   ]
  },
  {
   "cell_type": "code",
   "execution_count": 5,
   "metadata": {},
   "outputs": [
    {
     "name": "stdout",
     "output_type": "stream",
     "text": [
      "5/10\n",
      "20/25\n",
      "325/250\n"
     ]
    }
   ],
   "source": [
    "#python tidak mensupport method overloading\n",
    "#method overloading sebuah method dengan multipel cara memamnggilmya (metod yang sama berda dalam pemanggilan)\n",
    "#operator overloading operator yang mempunyai banyak fungsi(manggabungkan dan menambahkan),\n",
    "class function:\n",
    "    def __init__(self,top,button):\n",
    "        self.num = top\n",
    "        self.den = button\n",
    "        \n",
    "    def show(self):\n",
    "        print(self.num,\"/\",self.den)\n",
    "\n",
    "    def __str__(self):\n",
    "        return str(self.num)+\"/\"+str(self.den)\n",
    "    \n",
    "    def __add__(self,otherfraction):\n",
    "        newnum = self.num*otherfraction.den+self.den*otherfraction.num\n",
    "        newden = self.den*otherfraction.den\n",
    "        return function(newnum,newden)\n",
    "f = function(5,10)\n",
    "f2 = function(20,25)\n",
    "print(f)\n",
    "print(f2)\n",
    "print(f+f2)"
   ]
  },
  {
   "cell_type": "markdown",
   "metadata": {},
   "source": [
    "##### Soal latihan"
   ]
  },
  {
   "cell_type": "code",
   "execution_count": 13,
   "metadata": {},
   "outputs": [
    {
     "name": "stdout",
     "output_type": "stream",
     "text": [
      "point object is at : (3,1)\n"
     ]
    },
    {
     "data": {
      "text/plain": [
       "<__main__.point at 0x52cb9b0>"
      ]
     },
     "execution_count": 13,
     "metadata": {},
     "output_type": "execute_result"
    }
   ],
   "source": [
    "class point:\n",
    "    def __init__(self,x=0,y=0):\n",
    "        self.x = x\n",
    "        self.y = y\n",
    "        \n",
    "    def __str__(self):\n",
    "        return \"({0},{1})\".format(self.x,self.y)\n",
    "    \n",
    "    def __str__(self):\n",
    "        return \"point object is at : (\"+str(self.x)+\",\"+str(self.y)+\")\"\n",
    "    \n",
    "    def __add__(self,other):\n",
    "        x=self.x - other.x\n",
    "        y=self.y - other.y\n",
    "        return point(x,y)\n",
    "    def __sub__(self,other):\n",
    "        x=self.x - other.x\n",
    "        y=self.y - other.y\n",
    "        return point(x,y)\n",
    "p1 = point(2,3)\n",
    "p2 = point(-1,2)\n",
    "print(p1-p2)\n",
    "p1.__add__(p2)"
   ]
  },
  {
   "cell_type": "markdown",
   "metadata": {},
   "source": [
    "### Method Overloading\n",
    "Overloading method merupakan salah satu feature dalam bahasa pemrograman java, dimana dua buah method bisa dideklarasikan dengan nama yang sama, asal parameter yang digunakan berbeda, baik dari jumlahnya, tipe datanya, atau urutan dari parameternya.<br>\n",
    "DID"
   ]
  },
  {
   "cell_type": "code",
   "execution_count": 3,
   "metadata": {},
   "outputs": [
    {
     "ename": "TypeError",
     "evalue": "add() missing 1 required positional argument: 'c'",
     "output_type": "error",
     "traceback": [
      "\u001b[1;31m---------------------------------------------------------------------------\u001b[0m",
      "\u001b[1;31mTypeError\u001b[0m                                 Traceback (most recent call last)",
      "\u001b[1;32m<ipython-input-3-d5597bca532d>\u001b[0m in \u001b[0;36m<module>\u001b[1;34m()\u001b[0m\n\u001b[0;32m      3\u001b[0m \u001b[1;32mdef\u001b[0m \u001b[0madd\u001b[0m\u001b[1;33m(\u001b[0m\u001b[0ma\u001b[0m\u001b[1;33m,\u001b[0m\u001b[0mb\u001b[0m\u001b[1;33m,\u001b[0m\u001b[0mc\u001b[0m\u001b[1;33m)\u001b[0m\u001b[1;33m:\u001b[0m\u001b[1;33m\u001b[0m\u001b[0m\n\u001b[0;32m      4\u001b[0m     \u001b[1;32mreturn\u001b[0m \u001b[0ma\u001b[0m\u001b[1;33m+\u001b[0m\u001b[0mb\u001b[0m\u001b[1;33m+\u001b[0m\u001b[0mc\u001b[0m\u001b[1;33m\u001b[0m\u001b[0m\n\u001b[1;32m----> 5\u001b[1;33m \u001b[0mprint\u001b[0m\u001b[1;33m(\u001b[0m\u001b[0madd\u001b[0m\u001b[1;33m(\u001b[0m\u001b[1;36m2\u001b[0m\u001b[1;33m,\u001b[0m\u001b[1;36m3\u001b[0m\u001b[1;33m)\u001b[0m\u001b[1;33m)\u001b[0m\u001b[1;33m\u001b[0m\u001b[0m\n\u001b[0m",
      "\u001b[1;31mTypeError\u001b[0m: add() missing 1 required positional argument: 'c'"
     ]
    }
   ],
   "source": [
    "def add(a,b):\n",
    "    return a+b\n",
    "def add(a,b,c):\n",
    "    return a+b+c\n",
    "print(add(2,3))\n"
   ]
  },
  {
   "cell_type": "markdown",
   "metadata": {},
   "source": [
    "jika program diatas dijalankan maka akan error, karena dia akan mengeksekusi program yang paling bawah yaitu method yang mempunyai 3 argumen dan seandainya method yang paling bawah mempunyai 2 argumen maka program tidak akan error karena main programnya hanya memasang 2 argumen.<br><br>\n",
    "##### Contoh program method overloading support by python"
   ]
  },
  {
   "cell_type": "code",
   "execution_count": 4,
   "metadata": {},
   "outputs": [
    {
     "name": "stdout",
     "output_type": "stream",
     "text": [
      "11\n",
      "Hi Geeks\n"
     ]
    }
   ],
   "source": [
    "class Human:\n",
    "    def sayHello(self, name=None):\n",
    "        if name is not None:\n",
    "            print('Hello ' + name)\n",
    "        else:\n",
    "            print('Hello ')\n",
    "# Create instance\n",
    "obj = Human()\n",
    "\n",
    "# Call the method\n",
    "obj.sayHello()\n",
    "\n",
    "# Call the method with a parameter\n",
    "obj.sayHello('Guido')\n"
   ]
  },
  {
   "cell_type": "code",
   "execution_count": null,
   "metadata": {},
   "outputs": [],
   "source": []
  }
 ],
 "metadata": {
  "kernelspec": {
   "display_name": "Python 3",
   "language": "python",
   "name": "python3"
  },
  "language_info": {
   "codemirror_mode": {
    "name": "ipython",
    "version": 3
   },
   "file_extension": ".py",
   "mimetype": "text/x-python",
   "name": "python",
   "nbconvert_exporter": "python",
   "pygments_lexer": "ipython3",
   "version": "3.7.0"
  }
 },
 "nbformat": 4,
 "nbformat_minor": 2
}
